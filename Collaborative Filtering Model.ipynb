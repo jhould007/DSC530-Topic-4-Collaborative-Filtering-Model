{
 "cells": [
  {
   "cell_type": "markdown",
   "id": "725e9013",
   "metadata": {},
   "source": [
    "# Collaborative Filtering Model\n",
    "By Josh Houlding\n",
    "\n",
    "The motivation of collaborative filtering comes from the idea that you'll probably like things that people with similar viewing habits also like.\n",
    "\n",
    "For this activity, in 500-750 words, answer the following:\n",
    "\n",
    "1. Formulate a prediction question that you want to answer by applying a collaborative filtering recommender algorithm. Examples: How to determine which users or movies are similar to one another; how to determine the rating that a user would give to a movie based on the ratings of similar users; how to measure the accuracy of the ratings.\n",
    "2. Search and locate a dataset that is relevant to the question(s) you created in the previous step. You may search repositories such as Data.gov, UCI Machine Learning, Kaggle, or Scikit-Learn.\n",
    "3. Import the necessary libraries in Python for building a recommender system.\n",
    "4. Load the dataset into a data frame and preprocess it as needed.\n",
    "5. Split the dataset into training and testing sets.\n",
    "6. Fit a recommender system model on the training data.\n",
    "7. Make some predictions and use MAE and RMSE to measure/estimate the accuracy of your predictions. Report and interpret the results.\n",
    "8. Use the GridSearchCV class to fine-tune the algorithm parameters. Report the best parameter for any accuracy measure. Explain."
   ]
  },
  {
   "cell_type": "markdown",
   "id": "02b3d15b",
   "metadata": {},
   "source": [
    "# Task 1\n",
    "<b>Formulate a prediction question that you want to answer by applying a collaborative filtering recommender algorithm.</b> Examples: How to determine which users or movies are similar to one another; how to determine the rating that a user would give to a movie based on the ratings of similar users; how to measure the accuracy of the ratings."
   ]
  },
  {
   "cell_type": "markdown",
   "id": "83b7235b",
   "metadata": {},
   "source": [
    "<b>Prediction question:</b> Which video games on Steam are similar to one another? "
   ]
  },
  {
   "cell_type": "markdown",
   "id": "9bda9b2a",
   "metadata": {},
   "source": [
    "# Task 2\n",
    "Search and locate a dataset that is relevant to the question(s) you created in the previous step. You may search repositories such as Data.gov, UCI Machine Learning, Kaggle, or Scikit-Learn."
   ]
  },
  {
   "cell_type": "markdown",
   "id": "51ea4ca2",
   "metadata": {},
   "source": [
    "<b>Dataset chosen:</b> Steam Store Games (Clean Dataset) https://www.kaggle.com/datasets/nikdavis/steam-store-games\n",
    "\n",
    "This dataset includes data gathered around May 2019 about over 27,000 video games on Steam, the largest PC digital game platform. It was collected directly from the Steam Store using the third-party SteamSpy API. "
   ]
  },
  {
   "cell_type": "markdown",
   "id": "5c0302ea",
   "metadata": {},
   "source": [
    "# Task 3\n",
    "Import the necessary libraries in Python for building a recommender system."
   ]
  },
  {
   "cell_type": "code",
   "execution_count": 731,
   "id": "2fffff9f",
   "metadata": {},
   "outputs": [],
   "source": [
    "# Install libraries using PIP\n",
    "# !pip install scikit-surprise"
   ]
  },
  {
   "cell_type": "code",
   "execution_count": 732,
   "id": "ae2c05c4",
   "metadata": {},
   "outputs": [],
   "source": [
    "# Import libraries\n",
    "import pandas as pd\n",
    "from sklearn.model_selection import train_test_split"
   ]
  },
  {
   "cell_type": "markdown",
   "id": "f4be25ef",
   "metadata": {},
   "source": [
    "# Task 4\n",
    "Load the dataset into a data frame and preprocess it as needed."
   ]
  },
  {
   "cell_type": "code",
   "execution_count": 733,
   "id": "cc77a1f1",
   "metadata": {
    "scrolled": false
   },
   "outputs": [
    {
     "data": {
      "text/html": [
       "<div>\n",
       "<style scoped>\n",
       "    .dataframe tbody tr th:only-of-type {\n",
       "        vertical-align: middle;\n",
       "    }\n",
       "\n",
       "    .dataframe tbody tr th {\n",
       "        vertical-align: top;\n",
       "    }\n",
       "\n",
       "    .dataframe thead th {\n",
       "        text-align: right;\n",
       "    }\n",
       "</style>\n",
       "<table border=\"1\" class=\"dataframe\">\n",
       "  <thead>\n",
       "    <tr style=\"text-align: right;\">\n",
       "      <th></th>\n",
       "      <th>appid</th>\n",
       "      <th>name</th>\n",
       "      <th>release_date</th>\n",
       "      <th>english</th>\n",
       "      <th>developer</th>\n",
       "      <th>publisher</th>\n",
       "      <th>platforms</th>\n",
       "      <th>required_age</th>\n",
       "      <th>categories</th>\n",
       "      <th>genres</th>\n",
       "      <th>steamspy_tags</th>\n",
       "      <th>achievements</th>\n",
       "      <th>positive_ratings</th>\n",
       "      <th>negative_ratings</th>\n",
       "      <th>average_playtime</th>\n",
       "      <th>median_playtime</th>\n",
       "      <th>owners</th>\n",
       "      <th>price</th>\n",
       "    </tr>\n",
       "  </thead>\n",
       "  <tbody>\n",
       "    <tr>\n",
       "      <th>0</th>\n",
       "      <td>10</td>\n",
       "      <td>Counter-Strike</td>\n",
       "      <td>2000-11-01</td>\n",
       "      <td>1</td>\n",
       "      <td>Valve</td>\n",
       "      <td>Valve</td>\n",
       "      <td>windows;mac;linux</td>\n",
       "      <td>0</td>\n",
       "      <td>Multi-player;Online Multi-Player;Local Multi-P...</td>\n",
       "      <td>Action</td>\n",
       "      <td>Action;FPS;Multiplayer</td>\n",
       "      <td>0</td>\n",
       "      <td>124534</td>\n",
       "      <td>3339</td>\n",
       "      <td>17612</td>\n",
       "      <td>317</td>\n",
       "      <td>10000000-20000000</td>\n",
       "      <td>7.19</td>\n",
       "    </tr>\n",
       "    <tr>\n",
       "      <th>1</th>\n",
       "      <td>20</td>\n",
       "      <td>Team Fortress Classic</td>\n",
       "      <td>1999-04-01</td>\n",
       "      <td>1</td>\n",
       "      <td>Valve</td>\n",
       "      <td>Valve</td>\n",
       "      <td>windows;mac;linux</td>\n",
       "      <td>0</td>\n",
       "      <td>Multi-player;Online Multi-Player;Local Multi-P...</td>\n",
       "      <td>Action</td>\n",
       "      <td>Action;FPS;Multiplayer</td>\n",
       "      <td>0</td>\n",
       "      <td>3318</td>\n",
       "      <td>633</td>\n",
       "      <td>277</td>\n",
       "      <td>62</td>\n",
       "      <td>5000000-10000000</td>\n",
       "      <td>3.99</td>\n",
       "    </tr>\n",
       "    <tr>\n",
       "      <th>2</th>\n",
       "      <td>30</td>\n",
       "      <td>Day of Defeat</td>\n",
       "      <td>2003-05-01</td>\n",
       "      <td>1</td>\n",
       "      <td>Valve</td>\n",
       "      <td>Valve</td>\n",
       "      <td>windows;mac;linux</td>\n",
       "      <td>0</td>\n",
       "      <td>Multi-player;Valve Anti-Cheat enabled</td>\n",
       "      <td>Action</td>\n",
       "      <td>FPS;World War II;Multiplayer</td>\n",
       "      <td>0</td>\n",
       "      <td>3416</td>\n",
       "      <td>398</td>\n",
       "      <td>187</td>\n",
       "      <td>34</td>\n",
       "      <td>5000000-10000000</td>\n",
       "      <td>3.99</td>\n",
       "    </tr>\n",
       "    <tr>\n",
       "      <th>3</th>\n",
       "      <td>40</td>\n",
       "      <td>Deathmatch Classic</td>\n",
       "      <td>2001-06-01</td>\n",
       "      <td>1</td>\n",
       "      <td>Valve</td>\n",
       "      <td>Valve</td>\n",
       "      <td>windows;mac;linux</td>\n",
       "      <td>0</td>\n",
       "      <td>Multi-player;Online Multi-Player;Local Multi-P...</td>\n",
       "      <td>Action</td>\n",
       "      <td>Action;FPS;Multiplayer</td>\n",
       "      <td>0</td>\n",
       "      <td>1273</td>\n",
       "      <td>267</td>\n",
       "      <td>258</td>\n",
       "      <td>184</td>\n",
       "      <td>5000000-10000000</td>\n",
       "      <td>3.99</td>\n",
       "    </tr>\n",
       "    <tr>\n",
       "      <th>4</th>\n",
       "      <td>50</td>\n",
       "      <td>Half-Life: Opposing Force</td>\n",
       "      <td>1999-11-01</td>\n",
       "      <td>1</td>\n",
       "      <td>Gearbox Software</td>\n",
       "      <td>Valve</td>\n",
       "      <td>windows;mac;linux</td>\n",
       "      <td>0</td>\n",
       "      <td>Single-player;Multi-player;Valve Anti-Cheat en...</td>\n",
       "      <td>Action</td>\n",
       "      <td>FPS;Action;Sci-fi</td>\n",
       "      <td>0</td>\n",
       "      <td>5250</td>\n",
       "      <td>288</td>\n",
       "      <td>624</td>\n",
       "      <td>415</td>\n",
       "      <td>5000000-10000000</td>\n",
       "      <td>3.99</td>\n",
       "    </tr>\n",
       "  </tbody>\n",
       "</table>\n",
       "</div>"
      ],
      "text/plain": [
       "   appid                       name release_date  english         developer  \\\n",
       "0     10             Counter-Strike   2000-11-01        1             Valve   \n",
       "1     20      Team Fortress Classic   1999-04-01        1             Valve   \n",
       "2     30              Day of Defeat   2003-05-01        1             Valve   \n",
       "3     40         Deathmatch Classic   2001-06-01        1             Valve   \n",
       "4     50  Half-Life: Opposing Force   1999-11-01        1  Gearbox Software   \n",
       "\n",
       "  publisher          platforms  required_age  \\\n",
       "0     Valve  windows;mac;linux             0   \n",
       "1     Valve  windows;mac;linux             0   \n",
       "2     Valve  windows;mac;linux             0   \n",
       "3     Valve  windows;mac;linux             0   \n",
       "4     Valve  windows;mac;linux             0   \n",
       "\n",
       "                                          categories  genres  \\\n",
       "0  Multi-player;Online Multi-Player;Local Multi-P...  Action   \n",
       "1  Multi-player;Online Multi-Player;Local Multi-P...  Action   \n",
       "2              Multi-player;Valve Anti-Cheat enabled  Action   \n",
       "3  Multi-player;Online Multi-Player;Local Multi-P...  Action   \n",
       "4  Single-player;Multi-player;Valve Anti-Cheat en...  Action   \n",
       "\n",
       "                  steamspy_tags  achievements  positive_ratings  \\\n",
       "0        Action;FPS;Multiplayer             0            124534   \n",
       "1        Action;FPS;Multiplayer             0              3318   \n",
       "2  FPS;World War II;Multiplayer             0              3416   \n",
       "3        Action;FPS;Multiplayer             0              1273   \n",
       "4             FPS;Action;Sci-fi             0              5250   \n",
       "\n",
       "   negative_ratings  average_playtime  median_playtime             owners  \\\n",
       "0              3339             17612              317  10000000-20000000   \n",
       "1               633               277               62   5000000-10000000   \n",
       "2               398               187               34   5000000-10000000   \n",
       "3               267               258              184   5000000-10000000   \n",
       "4               288               624              415   5000000-10000000   \n",
       "\n",
       "   price  \n",
       "0   7.19  \n",
       "1   3.99  \n",
       "2   3.99  \n",
       "3   3.99  \n",
       "4   3.99  "
      ]
     },
     "execution_count": 733,
     "metadata": {},
     "output_type": "execute_result"
    }
   ],
   "source": [
    "# Load and view data\n",
    "df = pd.read_csv(\"steam.csv\")\n",
    "df.head()"
   ]
  },
  {
   "cell_type": "code",
   "execution_count": 734,
   "id": "27873362",
   "metadata": {},
   "outputs": [
    {
     "name": "stdout",
     "output_type": "stream",
     "text": [
      "<class 'pandas.core.frame.DataFrame'>\n",
      "RangeIndex: 27075 entries, 0 to 27074\n",
      "Data columns (total 18 columns):\n",
      " #   Column            Non-Null Count  Dtype  \n",
      "---  ------            --------------  -----  \n",
      " 0   appid             27075 non-null  int64  \n",
      " 1   name              27075 non-null  object \n",
      " 2   release_date      27075 non-null  object \n",
      " 3   english           27075 non-null  int64  \n",
      " 4   developer         27074 non-null  object \n",
      " 5   publisher         27061 non-null  object \n",
      " 6   platforms         27075 non-null  object \n",
      " 7   required_age      27075 non-null  int64  \n",
      " 8   categories        27075 non-null  object \n",
      " 9   genres            27075 non-null  object \n",
      " 10  steamspy_tags     27075 non-null  object \n",
      " 11  achievements      27075 non-null  int64  \n",
      " 12  positive_ratings  27075 non-null  int64  \n",
      " 13  negative_ratings  27075 non-null  int64  \n",
      " 14  average_playtime  27075 non-null  int64  \n",
      " 15  median_playtime   27075 non-null  int64  \n",
      " 16  owners            27075 non-null  object \n",
      " 17  price             27075 non-null  float64\n",
      "dtypes: float64(1), int64(8), object(9)\n",
      "memory usage: 3.7+ MB\n"
     ]
    }
   ],
   "source": [
    "# Show datatypes and shape\n",
    "df.info()"
   ]
  },
  {
   "cell_type": "markdown",
   "id": "9d40ed2d",
   "metadata": {},
   "source": [
    "### Inserting column for proportion of positive reviews\n",
    "This new column will give us insight into how favorably the Steam community views a particular game overall. "
   ]
  },
  {
   "cell_type": "code",
   "execution_count": 735,
   "id": "a3d0216a",
   "metadata": {},
   "outputs": [],
   "source": [
    "# Insert column for proportion of reviews that are positive\n",
    "proportion_positive = df[\"positive_ratings\"] / (df[\"positive_ratings\"] + df[\"negative_ratings\"])\n",
    "df.insert(14, \"proportion_positive\", proportion_positive)"
   ]
  },
  {
   "cell_type": "markdown",
   "id": "f16b6028",
   "metadata": {},
   "source": [
    "### Splitting `release_date` into multiple features\n",
    "`release_date` can only be useful in modeling if it is split into 3 features: year, month and day. "
   ]
  },
  {
   "cell_type": "code",
   "execution_count": 736,
   "id": "160c0e5c",
   "metadata": {
    "scrolled": true
   },
   "outputs": [
    {
     "name": "stdout",
     "output_type": "stream",
     "text": [
      "Datatype of \"release_date\": object\n",
      "Successfully converted datatype of column.\n",
      "Datatype of \"release_date\": datetime64[ns]\n",
      "Concatenated df with new year, month and day columns.\n",
      "Dropped original \"release_date\" column.\n"
     ]
    }
   ],
   "source": [
    "# Show current column datatype\n",
    "print(\"Datatype of \\\"release_date\\\":\", df[\"release_date\"].dtype)\n",
    "\n",
    "# Convert \"release_date\" to datetime\n",
    "df[\"release_date\"] = pd.to_datetime(df[\"release_date\"])\n",
    "print(\"Successfully converted datatype of column.\")\n",
    "print(\"Datatype of \\\"release_date\\\":\", df[\"release_date\"].dtype)\n",
    "\n",
    "# Split into year, month and day\n",
    "year = df[\"release_date\"].dt.year\n",
    "month = df[\"release_date\"].dt.month\n",
    "day = df[\"release_date\"].dt.day\n",
    "\n",
    "# Attach new columns to the dataframe\n",
    "df = pd.concat([df, year.rename(\"year\"), month.rename(\"month\"), day.rename(\"day\")], axis=1)\n",
    "print(\"Concatenated df with new year, month and day columns.\")\n",
    "\n",
    "# Drop original \"release_date\" column\n",
    "df.drop(columns={\"release_date\"}, inplace=True)\n",
    "print(\"Dropped original \\\"release_date\\\" column.\")"
   ]
  },
  {
   "cell_type": "markdown",
   "id": "b97d47db",
   "metadata": {},
   "source": [
    "### Normalizing numeric variables not already on [0, 1] scale"
   ]
  },
  {
   "cell_type": "code",
   "execution_count": 737,
   "id": "aabb11e9",
   "metadata": {},
   "outputs": [],
   "source": [
    "from sklearn.preprocessing import MinMaxScaler\n",
    "\n",
    "# Define variables to normalize\n",
    "variables_to_normalize = [\"required_age\", \"achievements\", \"positive_ratings\", \"negative_ratings\", \"proportion_positive\", \n",
    "                          \"average_playtime\", \"median_playtime\", \"price\", \"year\", \"month\", \"day\"]\n",
    "\n",
    "# Normalize variables\n",
    "scaler = MinMaxScaler()\n",
    "df[variables_to_normalize] = scaler.fit_transform(df[variables_to_normalize])"
   ]
  },
  {
   "cell_type": "markdown",
   "id": "c88a278a",
   "metadata": {},
   "source": [
    "### View final dataframe for modeling"
   ]
  },
  {
   "cell_type": "code",
   "execution_count": 738,
   "id": "b53270fd",
   "metadata": {
    "scrolled": false
   },
   "outputs": [
    {
     "name": "stdout",
     "output_type": "stream",
     "text": [
      "Dataframe shape: (27075, 21)\n"
     ]
    },
    {
     "data": {
      "text/html": [
       "<div>\n",
       "<style scoped>\n",
       "    .dataframe tbody tr th:only-of-type {\n",
       "        vertical-align: middle;\n",
       "    }\n",
       "\n",
       "    .dataframe tbody tr th {\n",
       "        vertical-align: top;\n",
       "    }\n",
       "\n",
       "    .dataframe thead th {\n",
       "        text-align: right;\n",
       "    }\n",
       "</style>\n",
       "<table border=\"1\" class=\"dataframe\">\n",
       "  <thead>\n",
       "    <tr style=\"text-align: right;\">\n",
       "      <th></th>\n",
       "      <th>appid</th>\n",
       "      <th>name</th>\n",
       "      <th>english</th>\n",
       "      <th>developer</th>\n",
       "      <th>publisher</th>\n",
       "      <th>platforms</th>\n",
       "      <th>required_age</th>\n",
       "      <th>categories</th>\n",
       "      <th>genres</th>\n",
       "      <th>steamspy_tags</th>\n",
       "      <th>achievements</th>\n",
       "      <th>positive_ratings</th>\n",
       "      <th>negative_ratings</th>\n",
       "      <th>proportion_positive</th>\n",
       "      <th>average_playtime</th>\n",
       "      <th>median_playtime</th>\n",
       "      <th>owners</th>\n",
       "      <th>price</th>\n",
       "      <th>year</th>\n",
       "      <th>month</th>\n",
       "      <th>day</th>\n",
       "    </tr>\n",
       "  </thead>\n",
       "  <tbody>\n",
       "    <tr>\n",
       "      <th>0</th>\n",
       "      <td>10</td>\n",
       "      <td>Counter-Strike</td>\n",
       "      <td>1</td>\n",
       "      <td>Valve</td>\n",
       "      <td>Valve</td>\n",
       "      <td>windows;mac;linux</td>\n",
       "      <td>0.0</td>\n",
       "      <td>Multi-player;Online Multi-Player;Local Multi-P...</td>\n",
       "      <td>Action</td>\n",
       "      <td>Action;FPS;Multiplayer</td>\n",
       "      <td>0.0</td>\n",
       "      <td>0.047093</td>\n",
       "      <td>0.006855</td>\n",
       "      <td>0.973888</td>\n",
       "      <td>0.092391</td>\n",
       "      <td>0.001663</td>\n",
       "      <td>10000000-20000000</td>\n",
       "      <td>0.017038</td>\n",
       "      <td>0.136364</td>\n",
       "      <td>0.909091</td>\n",
       "      <td>0.0</td>\n",
       "    </tr>\n",
       "    <tr>\n",
       "      <th>1</th>\n",
       "      <td>20</td>\n",
       "      <td>Team Fortress Classic</td>\n",
       "      <td>1</td>\n",
       "      <td>Valve</td>\n",
       "      <td>Valve</td>\n",
       "      <td>windows;mac;linux</td>\n",
       "      <td>0.0</td>\n",
       "      <td>Multi-player;Online Multi-Player;Local Multi-P...</td>\n",
       "      <td>Action</td>\n",
       "      <td>Action;FPS;Multiplayer</td>\n",
       "      <td>0.0</td>\n",
       "      <td>0.001255</td>\n",
       "      <td>0.001300</td>\n",
       "      <td>0.839787</td>\n",
       "      <td>0.001453</td>\n",
       "      <td>0.000325</td>\n",
       "      <td>5000000-10000000</td>\n",
       "      <td>0.009455</td>\n",
       "      <td>0.090909</td>\n",
       "      <td>0.272727</td>\n",
       "      <td>0.0</td>\n",
       "    </tr>\n",
       "    <tr>\n",
       "      <th>2</th>\n",
       "      <td>30</td>\n",
       "      <td>Day of Defeat</td>\n",
       "      <td>1</td>\n",
       "      <td>Valve</td>\n",
       "      <td>Valve</td>\n",
       "      <td>windows;mac;linux</td>\n",
       "      <td>0.0</td>\n",
       "      <td>Multi-player;Valve Anti-Cheat enabled</td>\n",
       "      <td>Action</td>\n",
       "      <td>FPS;World War II;Multiplayer</td>\n",
       "      <td>0.0</td>\n",
       "      <td>0.001292</td>\n",
       "      <td>0.000817</td>\n",
       "      <td>0.895648</td>\n",
       "      <td>0.000981</td>\n",
       "      <td>0.000178</td>\n",
       "      <td>5000000-10000000</td>\n",
       "      <td>0.009455</td>\n",
       "      <td>0.272727</td>\n",
       "      <td>0.363636</td>\n",
       "      <td>0.0</td>\n",
       "    </tr>\n",
       "    <tr>\n",
       "      <th>3</th>\n",
       "      <td>40</td>\n",
       "      <td>Deathmatch Classic</td>\n",
       "      <td>1</td>\n",
       "      <td>Valve</td>\n",
       "      <td>Valve</td>\n",
       "      <td>windows;mac;linux</td>\n",
       "      <td>0.0</td>\n",
       "      <td>Multi-player;Online Multi-Player;Local Multi-P...</td>\n",
       "      <td>Action</td>\n",
       "      <td>Action;FPS;Multiplayer</td>\n",
       "      <td>0.0</td>\n",
       "      <td>0.000481</td>\n",
       "      <td>0.000548</td>\n",
       "      <td>0.826623</td>\n",
       "      <td>0.001353</td>\n",
       "      <td>0.000965</td>\n",
       "      <td>5000000-10000000</td>\n",
       "      <td>0.009455</td>\n",
       "      <td>0.181818</td>\n",
       "      <td>0.454545</td>\n",
       "      <td>0.0</td>\n",
       "    </tr>\n",
       "    <tr>\n",
       "      <th>4</th>\n",
       "      <td>50</td>\n",
       "      <td>Half-Life: Opposing Force</td>\n",
       "      <td>1</td>\n",
       "      <td>Gearbox Software</td>\n",
       "      <td>Valve</td>\n",
       "      <td>windows;mac;linux</td>\n",
       "      <td>0.0</td>\n",
       "      <td>Single-player;Multi-player;Valve Anti-Cheat en...</td>\n",
       "      <td>Action</td>\n",
       "      <td>FPS;Action;Sci-fi</td>\n",
       "      <td>0.0</td>\n",
       "      <td>0.001985</td>\n",
       "      <td>0.000591</td>\n",
       "      <td>0.947996</td>\n",
       "      <td>0.003273</td>\n",
       "      <td>0.002177</td>\n",
       "      <td>5000000-10000000</td>\n",
       "      <td>0.009455</td>\n",
       "      <td>0.090909</td>\n",
       "      <td>0.909091</td>\n",
       "      <td>0.0</td>\n",
       "    </tr>\n",
       "  </tbody>\n",
       "</table>\n",
       "</div>"
      ],
      "text/plain": [
       "   appid                       name  english         developer publisher  \\\n",
       "0     10             Counter-Strike        1             Valve     Valve   \n",
       "1     20      Team Fortress Classic        1             Valve     Valve   \n",
       "2     30              Day of Defeat        1             Valve     Valve   \n",
       "3     40         Deathmatch Classic        1             Valve     Valve   \n",
       "4     50  Half-Life: Opposing Force        1  Gearbox Software     Valve   \n",
       "\n",
       "           platforms  required_age  \\\n",
       "0  windows;mac;linux           0.0   \n",
       "1  windows;mac;linux           0.0   \n",
       "2  windows;mac;linux           0.0   \n",
       "3  windows;mac;linux           0.0   \n",
       "4  windows;mac;linux           0.0   \n",
       "\n",
       "                                          categories  genres  \\\n",
       "0  Multi-player;Online Multi-Player;Local Multi-P...  Action   \n",
       "1  Multi-player;Online Multi-Player;Local Multi-P...  Action   \n",
       "2              Multi-player;Valve Anti-Cheat enabled  Action   \n",
       "3  Multi-player;Online Multi-Player;Local Multi-P...  Action   \n",
       "4  Single-player;Multi-player;Valve Anti-Cheat en...  Action   \n",
       "\n",
       "                  steamspy_tags  achievements  positive_ratings  \\\n",
       "0        Action;FPS;Multiplayer           0.0          0.047093   \n",
       "1        Action;FPS;Multiplayer           0.0          0.001255   \n",
       "2  FPS;World War II;Multiplayer           0.0          0.001292   \n",
       "3        Action;FPS;Multiplayer           0.0          0.000481   \n",
       "4             FPS;Action;Sci-fi           0.0          0.001985   \n",
       "\n",
       "   negative_ratings  proportion_positive  average_playtime  median_playtime  \\\n",
       "0          0.006855             0.973888          0.092391         0.001663   \n",
       "1          0.001300             0.839787          0.001453         0.000325   \n",
       "2          0.000817             0.895648          0.000981         0.000178   \n",
       "3          0.000548             0.826623          0.001353         0.000965   \n",
       "4          0.000591             0.947996          0.003273         0.002177   \n",
       "\n",
       "              owners     price      year     month  day  \n",
       "0  10000000-20000000  0.017038  0.136364  0.909091  0.0  \n",
       "1   5000000-10000000  0.009455  0.090909  0.272727  0.0  \n",
       "2   5000000-10000000  0.009455  0.272727  0.363636  0.0  \n",
       "3   5000000-10000000  0.009455  0.181818  0.454545  0.0  \n",
       "4   5000000-10000000  0.009455  0.090909  0.909091  0.0  "
      ]
     },
     "execution_count": 738,
     "metadata": {},
     "output_type": "execute_result"
    }
   ],
   "source": [
    "# View max columns\n",
    "pd.set_option(\"display.max_columns\", None)\n",
    "\n",
    "# Show final dataframe shape\n",
    "print(\"Dataframe shape:\", df.shape)\n",
    "\n",
    "# Show final dataframe\n",
    "df.head()"
   ]
  },
  {
   "cell_type": "markdown",
   "id": "dc4b8275",
   "metadata": {},
   "source": [
    "# Task 5\n",
    "Split the dataset into training and testing sets."
   ]
  },
  {
   "cell_type": "markdown",
   "id": "e3e46091",
   "metadata": {},
   "source": [
    "I had some difficulty figuring out what the label of this model should be, but I eventually settled on using `proportion_positive`. This column is appropriate because user ratings for games will be helpful in determining which are similar to each other. "
   ]
  },
  {
   "cell_type": "code",
   "execution_count": 739,
   "id": "506cf6e3",
   "metadata": {},
   "outputs": [],
   "source": [
    "# Save indices and IDs of original dataset\n",
    "original_indices = df.index.tolist()\n",
    "game_ids = df[\"appid\"].tolist()\n",
    "\n",
    "# Select features and label\n",
    "x = df.drop(columns={\"appid\", \"name\", \"developer\", \"publisher\"})\n",
    "y = df[\"average_playtime\"]\n",
    "\n",
    "# Perform train-test split\n",
    "x_train, x_test, y_train, y_test = train_test_split(x, y, test_size=0.2, random_state=42)"
   ]
  },
  {
   "cell_type": "markdown",
   "id": "32c9f2a9",
   "metadata": {},
   "source": [
    "# Task 6\n",
    "Fit a recommender system model on the training data."
   ]
  },
  {
   "cell_type": "code",
   "execution_count": 740,
   "id": "fb8fcf56",
   "metadata": {},
   "outputs": [],
   "source": [
    "# Import necessary libraries\n",
    "from surprise import Dataset, Reader\n",
    "from surprise.model_selection import train_test_split\n",
    "from surprise import SVD  # Example collaborative filtering algorithm\n",
    "from surprise import accuracy"
   ]
  },
  {
   "cell_type": "code",
   "execution_count": 741,
   "id": "85c103a6",
   "metadata": {},
   "outputs": [],
   "source": [
    "# Create reader\n",
    "reader = Reader()\n",
    "\n",
    "# Select features\n",
    "\"\"\"\n",
    "Features of interest: \"developer\", \"publisher\", \"categories\", \"genres\", \"steamspy_tags\", \"positive_ratings\", \n",
    "\"negative_ratings\", \"proportion_positive\", \"average_playtime\", \"median_playtime\", \"price\", \"year\"\n",
    "\"\"\"\n",
    "\n",
    "data = Dataset.load_from_df(df[[\"appid\", \"genres\", \"proportion_positive\"]], reader)\n",
    "\n",
    "# Perform train-test split\n",
    "train_set, test_set = train_test_split(data, test_size=0.2, random_state=42)\n",
    "\n",
    "# Create and fit Singular Value Decomposition (SVD) model\n",
    "model = SVD() \n",
    "model.fit(train_set)\n",
    "\n",
    "# Make predictions with model\n",
    "predictions = model.test(test_set)"
   ]
  },
  {
   "cell_type": "markdown",
   "id": "e95d3f09",
   "metadata": {},
   "source": [
    "# Task 7\n",
    "Make some predictions and use MAE and RMSE to measure/estimate the accuracy of your predictions. Report and interpret the results."
   ]
  },
  {
   "cell_type": "code",
   "execution_count": 742,
   "id": "2e4b7c0f",
   "metadata": {
    "scrolled": true
   },
   "outputs": [
    {
     "data": {
      "text/plain": [
       "[Prediction(uid=618640, iid='Action;Indie;Early Access', r_ui=0.7619047619047619, est=1, details={'was_impossible': False}),\n",
       " Prediction(uid=285740, iid='Casual;Indie;Simulation', r_ui=0.939297124600639, est=1, details={'was_impossible': False}),\n",
       " Prediction(uid=477160, iid='Adventure;Indie', r_ui=0.9137492350800348, est=1, details={'was_impossible': False}),\n",
       " Prediction(uid=868780, iid='Adventure;Indie;RPG', r_ui=0.9333333333333333, est=1, details={'was_impossible': False}),\n",
       " Prediction(uid=235820, iid='Action;Indie', r_ui=0.8363636363636363, est=1, details={'was_impossible': False}),\n",
       " Prediction(uid=282590, iid='Indie;Strategy', r_ui=0.8003220611916264, est=1, details={'was_impossible': False}),\n",
       " Prediction(uid=244690, iid='Adventure;Indie', r_ui=0.6781115879828327, est=1, details={'was_impossible': False}),\n",
       " Prediction(uid=816170, iid='Adventure;Indie', r_ui=1.0, est=1, details={'was_impossible': False}),\n",
       " Prediction(uid=517480, iid='Action;Indie', r_ui=0.25, est=1, details={'was_impossible': False}),\n",
       " Prediction(uid=988980, iid='Action;Casual;Indie;Strategy', r_ui=1.0, est=1, details={'was_impossible': False})]"
      ]
     },
     "execution_count": 742,
     "metadata": {},
     "output_type": "execute_result"
    }
   ],
   "source": [
    "# Get first 10 predictions\n",
    "prediction_subset = predictions[:10]\n",
    "prediction_subset"
   ]
  },
  {
   "cell_type": "code",
   "execution_count": 743,
   "id": "6df03dac",
   "metadata": {},
   "outputs": [
    {
     "data": {
      "text/html": [
       "<div>\n",
       "<style scoped>\n",
       "    .dataframe tbody tr th:only-of-type {\n",
       "        vertical-align: middle;\n",
       "    }\n",
       "\n",
       "    .dataframe tbody tr th {\n",
       "        vertical-align: top;\n",
       "    }\n",
       "\n",
       "    .dataframe thead th {\n",
       "        text-align: right;\n",
       "    }\n",
       "</style>\n",
       "<table border=\"1\" class=\"dataframe\">\n",
       "  <thead>\n",
       "    <tr style=\"text-align: right;\">\n",
       "      <th></th>\n",
       "      <th>appid</th>\n",
       "      <th>name</th>\n",
       "      <th>genres</th>\n",
       "    </tr>\n",
       "  </thead>\n",
       "  <tbody>\n",
       "    <tr>\n",
       "      <th>1717</th>\n",
       "      <td>235820</td>\n",
       "      <td>Element4l</td>\n",
       "      <td>Action;Indie</td>\n",
       "    </tr>\n",
       "    <tr>\n",
       "      <th>1848</th>\n",
       "      <td>244690</td>\n",
       "      <td>Face Noir</td>\n",
       "      <td>Adventure;Indie</td>\n",
       "    </tr>\n",
       "    <tr>\n",
       "      <th>2696</th>\n",
       "      <td>282590</td>\n",
       "      <td>Star Ruler 2</td>\n",
       "      <td>Indie;Strategy</td>\n",
       "    </tr>\n",
       "    <tr>\n",
       "      <th>2786</th>\n",
       "      <td>285740</td>\n",
       "      <td>Kitty Powers' Matchmaker</td>\n",
       "      <td>Casual;Indie;Simulation</td>\n",
       "    </tr>\n",
       "    <tr>\n",
       "      <th>9259</th>\n",
       "      <td>477160</td>\n",
       "      <td>Human: Fall Flat</td>\n",
       "      <td>Adventure;Indie</td>\n",
       "    </tr>\n",
       "    <tr>\n",
       "      <th>10623</th>\n",
       "      <td>517480</td>\n",
       "      <td>VHSoverdose</td>\n",
       "      <td>Action;Indie</td>\n",
       "    </tr>\n",
       "    <tr>\n",
       "      <th>14154</th>\n",
       "      <td>618640</td>\n",
       "      <td>The Crowded Party Game Collection</td>\n",
       "      <td>Action;Indie;Early Access</td>\n",
       "    </tr>\n",
       "    <tr>\n",
       "      <th>20896</th>\n",
       "      <td>816170</td>\n",
       "      <td>Spectrubes Infinity</td>\n",
       "      <td>Adventure;Indie</td>\n",
       "    </tr>\n",
       "    <tr>\n",
       "      <th>22629</th>\n",
       "      <td>868780</td>\n",
       "      <td>I, Cyborg</td>\n",
       "      <td>Adventure;Indie;RPG</td>\n",
       "    </tr>\n",
       "    <tr>\n",
       "      <th>25842</th>\n",
       "      <td>988980</td>\n",
       "      <td>GLAD VALAKAS TOWER DEFENCE</td>\n",
       "      <td>Action;Casual;Indie;Strategy</td>\n",
       "    </tr>\n",
       "  </tbody>\n",
       "</table>\n",
       "</div>"
      ],
      "text/plain": [
       "        appid                               name                        genres\n",
       "1717   235820                          Element4l                  Action;Indie\n",
       "1848   244690                          Face Noir               Adventure;Indie\n",
       "2696   282590                       Star Ruler 2                Indie;Strategy\n",
       "2786   285740           Kitty Powers' Matchmaker       Casual;Indie;Simulation\n",
       "9259   477160                   Human: Fall Flat               Adventure;Indie\n",
       "10623  517480                        VHSoverdose                  Action;Indie\n",
       "14154  618640  The Crowded Party Game Collection     Action;Indie;Early Access\n",
       "20896  816170                Spectrubes Infinity               Adventure;Indie\n",
       "22629  868780                          I, Cyborg           Adventure;Indie;RPG\n",
       "25842  988980         GLAD VALAKAS TOWER DEFENCE  Action;Casual;Indie;Strategy"
      ]
     },
     "execution_count": 743,
     "metadata": {},
     "output_type": "execute_result"
    }
   ],
   "source": [
    "# Pull out ids of predictions\n",
    "prediction_ids = [pred.uid for pred in prediction_subset]\n",
    "\n",
    "# Find games included in first 10 predictions\n",
    "games = df[df[\"appid\"].isin(prediction_ids)]\n",
    "display_columns = games[[\"appid\", \"name\", \"genres\"]]\n",
    "display_columns"
   ]
  },
  {
   "cell_type": "markdown",
   "id": "fc14ae14",
   "metadata": {},
   "source": [
    "Looking at these predictions, we can see that all of them have the \"indie\" genre, and many have \"action\", \"adventure\", or \"casual\". Thus, it would appear these games are fairly similar in genre.\n",
    "\n",
    "Let's check the MAE and RMSE for this feature combination to see how robust it is: "
   ]
  },
  {
   "cell_type": "code",
   "execution_count": 744,
   "id": "08701fc8",
   "metadata": {
    "scrolled": true
   },
   "outputs": [
    {
     "name": "stdout",
     "output_type": "stream",
     "text": [
      "MAE:  0.2866\n",
      "RMSE: 0.3703\n"
     ]
    }
   ],
   "source": [
    "# View MAE and RMSE\n",
    "mae = accuracy.mae(predictions)\n",
    "rmse = accuracy.rmse(predictions)"
   ]
  },
  {
   "cell_type": "markdown",
   "id": "cbe68513",
   "metadata": {},
   "source": [
    "The target variable `proportion_positive` is on a scale of $[0, 1]$, so these metrics are rather high. It would be of interest to test at least one other subset of features to see if a lower MAE and RMSE can be achieved. "
   ]
  },
  {
   "cell_type": "markdown",
   "id": "1d0b4c66",
   "metadata": {},
   "source": [
    "### Trying other feature subsets"
   ]
  },
  {
   "cell_type": "code",
   "execution_count": 749,
   "id": "3e3d1687",
   "metadata": {},
   "outputs": [
    {
     "name": "stdout",
     "output_type": "stream",
     "text": [
      "RMSE for feature subset ['appid', 'developer', 'proportion_positive'] : 0.37031\n",
      "RMSE for feature subset ['appid', 'publisher', 'proportion_positive'] : 0.37031\n",
      "RMSE for feature subset ['appid', 'categories', 'proportion_positive'] : 0.37031\n",
      "RMSE for feature subset ['appid', 'steamspy_tags', 'proportion_positive'] : 0.37031\n",
      "RMSE for feature subset ['appid', 'positive_ratings', 'proportion_positive'] : 0.37031\n",
      "RMSE for feature subset ['appid', 'negative_ratings', 'proportion_positive'] : 0.37031\n",
      "RMSE for feature subset ['appid', 'average_playtime', 'proportion_positive'] : 0.37031\n",
      "RMSE for feature subset ['appid', 'median_playtime', 'proportion_positive'] : 0.37031\n",
      "RMSE for feature subset ['appid', 'price', 'proportion_positive'] : 0.37031\n",
      "RMSE for feature subset ['appid', 'year', 'proportion_positive'] : 0.37031\n"
     ]
    }
   ],
   "source": [
    "from itertools import product\n",
    "\n",
    "# Gather feature subsets for testing\n",
    "other_interesting_features = [\"developer\", \"publisher\", \"categories\", \"steamspy_tags\", \"positive_ratings\", \n",
    "\"negative_ratings\", \"average_playtime\", \"median_playtime\", \"price\", \"year\"]\n",
    "feature_subsets = [[\"appid\", feature, \"proportion_positive\"] for feature in other_interesting_features]\n",
    "\n",
    "# Test feature subsets to find optimal RMSE\n",
    "for subset in feature_subsets: \n",
    "    data = Dataset.load_from_df(df[subset], reader)\n",
    "    train_set, test_set = train_test_split(data, test_size=0.2, random_state=42)\n",
    "    model = SVD() \n",
    "    model.fit(train_set)\n",
    "    predictions = model.test(test_set)\n",
    "    print(\"RMSE for feature subset\", subset, \":\", round(accuracy.rmse(predictions, verbose=False), 5))"
   ]
  },
  {
   "cell_type": "markdown",
   "id": "bf35f836",
   "metadata": {},
   "source": [
    "It would appear that we get the same RMSE for every other feature we try with the app ID and proportion of positive reviews. I also tried `median_playtime` and `price` as targets for the model, but both of these had RMSE values exceeding 0.98, so it appears I was correct in choosing `proportion_positive` as the target initially. "
   ]
  },
  {
   "cell_type": "markdown",
   "id": "e74c280c",
   "metadata": {},
   "source": [
    "# Task 8\n",
    "\n",
    "Use the GridSearchCV class to fine-tune the algorithm parameters. Report the best parameter for any accuracy measure. Explain."
   ]
  },
  {
   "cell_type": "code",
   "execution_count": 746,
   "id": "37629953",
   "metadata": {},
   "outputs": [
    {
     "name": "stdout",
     "output_type": "stream",
     "text": [
      "Best RMSE score: 0.9993100962168989\n",
      "Best parameters for RMSE: {'n_factors': 50, 'reg_all': 0.01}\n",
      "Best MAE score: 0.9992338044351604\n",
      "Best parameters for MAE: {'n_factors': 50, 'reg_all': 0.01}\n"
     ]
    }
   ],
   "source": [
    "from surprise.model_selection import GridSearchCV\n",
    "from surprise.dataset import DatasetAutoFolds\n",
    "from surprise import Dataset\n",
    "from surprise.model_selection import KFold\n",
    "\n",
    "# Define parameter grid\n",
    "param_grid = {\"n_factors\": [50, 100, 200], \"reg_all\": [0.01, 0.02, 0.05]}\n",
    "\n",
    "# Initialize GridSearchCV\n",
    "grid_search = GridSearchCV(SVD, param_grid, measures=[\"rmse\", \"mae\"], cv=3)\n",
    "\n",
    "# Fit grid search object to data\n",
    "grid_search.fit(data)\n",
    "\n",
    "# Print best RMSE score and parameters\n",
    "print(\"Best RMSE score:\", grid_search.best_score[\"rmse\"])\n",
    "print(\"Best parameters for RMSE:\", grid_search.best_params[\"rmse\"])\n",
    "print(\"Best MAE score:\", grid_search.best_score[\"mae\"])\n",
    "print(\"Best parameters for MAE:\", grid_search.best_params[\"mae\"])"
   ]
  },
  {
   "cell_type": "markdown",
   "id": "c3a0c3de",
   "metadata": {},
   "source": [
    "The best parameters for the grid search are `n_factors` $= 50$ and `reg_all` $= 0.01$. This means that 50 latent factors and a regularization strength of 0.01 maximize model accuracy while striking a balance between complexity and generalizability. "
   ]
  },
  {
   "cell_type": "markdown",
   "id": "1b974abf",
   "metadata": {},
   "source": [
    "# References\n",
    "ChatGPT. (n.d.). https://chat.openai.com/ <br>\n",
    "Collaborative filtering. (n.d.). Google for Developers. https://developers.google.com/machine-learning/recommendation/collaborative/basics"
   ]
  }
 ],
 "metadata": {
  "kernelspec": {
   "display_name": "Python 3 (ipykernel)",
   "language": "python",
   "name": "python3"
  },
  "language_info": {
   "codemirror_mode": {
    "name": "ipython",
    "version": 3
   },
   "file_extension": ".py",
   "mimetype": "text/x-python",
   "name": "python",
   "nbconvert_exporter": "python",
   "pygments_lexer": "ipython3",
   "version": "3.11.5"
  }
 },
 "nbformat": 4,
 "nbformat_minor": 5
}
